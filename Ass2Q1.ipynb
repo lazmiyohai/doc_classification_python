{
 "cells": [
  {
   "cell_type": "markdown",
   "metadata": {},
   "source": [
    "# Q1\n"
   ]
  },
  {
   "cell_type": "code",
   "execution_count": 10,
   "metadata": {},
   "outputs": [
    {
     "name": "stdout",
     "output_type": "stream",
     "text": [
      "aa\n"
     ]
    }
   ],
   "source": [
    "from nltk.tokenize import word_tokenize\n",
    "from nltk.corpus import stopwords\n",
    "from collections import Counter\n",
    "import os\n",
    "import re\n",
    "import string\n",
    "from nltk.stem import PorterStemmer\n",
    "import matplotlib.pyplot as plt\n",
    "\n",
    "cwd = os.getcwd()  # Get the current working directory (cwd)\n",
    "train_txt = '/train_hw2.txt';\n",
    "test_txt = '/test_hw2.txt';\n"
   ]
  },
  {
   "cell_type": "code",
   "execution_count": 11,
   "metadata": {},
   "outputs": [],
   "source": [
    "# preprocess\n",
    " \n",
    "def preprocess(line):\n",
    "    tokens = word_tokenize((line))\n",
    "    low=[token.lower() for token in tokens] \n",
    "    ps=PorterStemmer()\n",
    "    stem=[]\n",
    "    for w in low:\n",
    "        stem.append(ps.stem(w))\n",
    "    return stem"
   ]
  },
  {
   "cell_type": "code",
   "execution_count": 12,
   "metadata": {},
   "outputs": [],
   "source": [
    "# clean and normalize\n",
    "\n",
    "#initialize stop words\n",
    "stop = set(stopwords.words('english'))\n",
    "\n",
    "def clean_and_normalize(class_word,terms,list_of_categories,f):\n",
    "    for line in f:\n",
    "        tokens = preprocess(line)\n",
    "        if tokens[0]==class_word:\n",
    "            for token in tokens:\n",
    "                if token not in stop:\n",
    "                    if token not in list_of_categories:\n",
    "                        terms.append(token)"
   ]
  },
  {
   "cell_type": "code",
   "execution_count": 13,
   "metadata": {},
   "outputs": [
    {
     "name": "stdout",
     "output_type": "stream",
     "text": [
      "---------------------------------train dataset---------------------------------\n",
      "List of categories: ['earn', 'acq', 'trade', 'ship', 'grain', 'crude', 'interest', 'money-fx']\n",
      "Number of categories: 8\n",
      "Number of docs per category: [('earn', 2840), ('acq', 1596), ('crude', 253), ('trade', 251), ('money-fx', 206), ('interest', 190), ('ship', 108), ('grain', 41)]\n",
      "terms distribution per category:\n",
      "---------------------------------\n",
      "earn :\n"
     ]
    },
    {
     "data": {
      "image/png": "[encoded data removed]",
      "text/plain": [
       "<Figure size 432x288 with 1 Axes>"
      ]
     },
     "metadata": {
      "needs_background": "light"
     },
     "output_type": "display_data"
    },
    {
     "name": "stdout",
     "output_type": "stream",
     "text": [
      "---------------------------------\n",
      "acq :\n"
     ]
    },
    {
     "data": {
      "image/png": "[encoded data removed]",
      "text/plain": [
       "<Figure size 432x288 with 1 Axes>"
      ]
     },
     "metadata": {
      "needs_background": "light"
     },
     "output_type": "display_data"
    },
    {
     "name": "stdout",
     "output_type": "stream",
     "text": [
      "---------------------------------\n",
      "trade :\n"
     ]
    },
    {
     "data": {
      "image/png": "[encoded data removed]",
      "text/plain": [
       "<Figure size 432x288 with 1 Axes>"
      ]
     },
     "metadata": {
      "needs_background": "light"
     },
     "output_type": "display_data"
    },
    {
     "name": "stdout",
     "output_type": "stream",
     "text": [
      "---------------------------------\n",
      "ship :\n"
     ]
    },
    {
     "ename": "KeyboardInterrupt",
     "evalue": "",
     "output_type": "error",
     "traceback": [
      "\u001b[1;31m---------------------------------------------------------------------------\u001b[0m",
      "\u001b[1;31mKeyboardInterrupt\u001b[0m                         Traceback (most recent call last)",
      "\u001b[1;32m<ipython-input-13-0b476f235b72>\u001b[0m in \u001b[0;36m<module>\u001b[1;34m\u001b[0m\n\u001b[0;32m     43\u001b[0m     \u001b[0mterms\u001b[0m\u001b[1;33m=\u001b[0m\u001b[1;33m[\u001b[0m\u001b[1;33m]\u001b[0m\u001b[1;33m\u001b[0m\u001b[1;33m\u001b[0m\u001b[0m\n\u001b[0;32m     44\u001b[0m     \u001b[0mf\u001b[0m \u001b[1;33m=\u001b[0m \u001b[0mopen\u001b[0m\u001b[1;33m(\u001b[0m\u001b[0mcwd\u001b[0m\u001b[1;33m+\u001b[0m \u001b[0mtrain_txt\u001b[0m\u001b[1;33m)\u001b[0m\u001b[1;33m\u001b[0m\u001b[1;33m\u001b[0m\u001b[0m\n\u001b[1;32m---> 45\u001b[1;33m     \u001b[0mclean_and_normalize\u001b[0m\u001b[1;33m(\u001b[0m\u001b[0mcat\u001b[0m\u001b[1;33m,\u001b[0m\u001b[0mterms\u001b[0m\u001b[1;33m,\u001b[0m\u001b[0mlist_of_categories\u001b[0m\u001b[1;33m,\u001b[0m\u001b[0mf\u001b[0m\u001b[1;33m)\u001b[0m\u001b[1;33m\u001b[0m\u001b[1;33m\u001b[0m\u001b[0m\n\u001b[0m\u001b[0;32m     46\u001b[0m     \u001b[0mcount_all2\u001b[0m \u001b[1;33m=\u001b[0m \u001b[0mCounter\u001b[0m\u001b[1;33m(\u001b[0m\u001b[1;33m)\u001b[0m\u001b[1;33m\u001b[0m\u001b[1;33m\u001b[0m\u001b[0m\n\u001b[0;32m     47\u001b[0m     \u001b[0mcount_all2\u001b[0m\u001b[1;33m.\u001b[0m\u001b[0mupdate\u001b[0m\u001b[1;33m(\u001b[0m\u001b[0mterms\u001b[0m\u001b[1;33m)\u001b[0m\u001b[1;33m\u001b[0m\u001b[1;33m\u001b[0m\u001b[0m\n",
      "\u001b[1;32m<ipython-input-12-d8ffe79474b4>\u001b[0m in \u001b[0;36mclean_and_normalize\u001b[1;34m(class_word, terms, list_of_categories, f)\u001b[0m\n\u001b[0;32m      6\u001b[0m \u001b[1;32mdef\u001b[0m \u001b[0mclean_and_normalize\u001b[0m\u001b[1;33m(\u001b[0m\u001b[0mclass_word\u001b[0m\u001b[1;33m,\u001b[0m\u001b[0mterms\u001b[0m\u001b[1;33m,\u001b[0m\u001b[0mlist_of_categories\u001b[0m\u001b[1;33m,\u001b[0m\u001b[0mf\u001b[0m\u001b[1;33m)\u001b[0m\u001b[1;33m:\u001b[0m\u001b[1;33m\u001b[0m\u001b[1;33m\u001b[0m\u001b[0m\n\u001b[0;32m      7\u001b[0m     \u001b[1;32mfor\u001b[0m \u001b[0mline\u001b[0m \u001b[1;32min\u001b[0m \u001b[0mf\u001b[0m\u001b[1;33m:\u001b[0m\u001b[1;33m\u001b[0m\u001b[1;33m\u001b[0m\u001b[0m\n\u001b[1;32m----> 8\u001b[1;33m         \u001b[0mtokens\u001b[0m \u001b[1;33m=\u001b[0m \u001b[0mpreprocess\u001b[0m\u001b[1;33m(\u001b[0m\u001b[0mline\u001b[0m\u001b[1;33m)\u001b[0m\u001b[1;33m\u001b[0m\u001b[1;33m\u001b[0m\u001b[0m\n\u001b[0m\u001b[0;32m      9\u001b[0m         \u001b[1;32mif\u001b[0m \u001b[0mtokens\u001b[0m\u001b[1;33m[\u001b[0m\u001b[1;36m0\u001b[0m\u001b[1;33m]\u001b[0m\u001b[1;33m==\u001b[0m\u001b[0mclass_word\u001b[0m\u001b[1;33m:\u001b[0m\u001b[1;33m\u001b[0m\u001b[1;33m\u001b[0m\u001b[0m\n\u001b[0;32m     10\u001b[0m             \u001b[1;32mfor\u001b[0m \u001b[0mtoken\u001b[0m \u001b[1;32min\u001b[0m \u001b[0mtokens\u001b[0m\u001b[1;33m:\u001b[0m\u001b[1;33m\u001b[0m\u001b[1;33m\u001b[0m\u001b[0m\n",
      "\u001b[1;32m<ipython-input-11-4472f9264766>\u001b[0m in \u001b[0;36mpreprocess\u001b[1;34m(line)\u001b[0m\n\u001b[0;32m      7\u001b[0m     \u001b[0mstem\u001b[0m\u001b[1;33m=\u001b[0m\u001b[1;33m[\u001b[0m\u001b[1;33m]\u001b[0m\u001b[1;33m\u001b[0m\u001b[1;33m\u001b[0m\u001b[0m\n\u001b[0;32m      8\u001b[0m     \u001b[1;32mfor\u001b[0m \u001b[0mw\u001b[0m \u001b[1;32min\u001b[0m \u001b[0mlow\u001b[0m\u001b[1;33m:\u001b[0m\u001b[1;33m\u001b[0m\u001b[1;33m\u001b[0m\u001b[0m\n\u001b[1;32m----> 9\u001b[1;33m         \u001b[0mstem\u001b[0m\u001b[1;33m.\u001b[0m\u001b[0mappend\u001b[0m\u001b[1;33m(\u001b[0m\u001b[0mps\u001b[0m\u001b[1;33m.\u001b[0m\u001b[0mstem\u001b[0m\u001b[1;33m(\u001b[0m\u001b[0mw\u001b[0m\u001b[1;33m)\u001b[0m\u001b[1;33m)\u001b[0m\u001b[1;33m\u001b[0m\u001b[1;33m\u001b[0m\u001b[0m\n\u001b[0m\u001b[0;32m     10\u001b[0m     \u001b[1;32mreturn\u001b[0m \u001b[0mstem\u001b[0m\u001b[1;33m\u001b[0m\u001b[1;33m\u001b[0m\u001b[0m\n",
      "\u001b[1;32mC:\\Anaconda3\\lib\\site-packages\\nltk\\stem\\porter.py\u001b[0m in \u001b[0;36mstem\u001b[1;34m(self, word)\u001b[0m\n\u001b[0;32m    668\u001b[0m         \u001b[0mstem\u001b[0m \u001b[1;33m=\u001b[0m \u001b[0mself\u001b[0m\u001b[1;33m.\u001b[0m\u001b[0m_step1b\u001b[0m\u001b[1;33m(\u001b[0m\u001b[0mstem\u001b[0m\u001b[1;33m)\u001b[0m\u001b[1;33m\u001b[0m\u001b[1;33m\u001b[0m\u001b[0m\n\u001b[0;32m    669\u001b[0m         \u001b[0mstem\u001b[0m \u001b[1;33m=\u001b[0m \u001b[0mself\u001b[0m\u001b[1;33m.\u001b[0m\u001b[0m_step1c\u001b[0m\u001b[1;33m(\u001b[0m\u001b[0mstem\u001b[0m\u001b[1;33m)\u001b[0m\u001b[1;33m\u001b[0m\u001b[1;33m\u001b[0m\u001b[0m\n\u001b[1;32m--> 670\u001b[1;33m         \u001b[0mstem\u001b[0m \u001b[1;33m=\u001b[0m \u001b[0mself\u001b[0m\u001b[1;33m.\u001b[0m\u001b[0m_step2\u001b[0m\u001b[1;33m(\u001b[0m\u001b[0mstem\u001b[0m\u001b[1;33m)\u001b[0m\u001b[1;33m\u001b[0m\u001b[1;33m\u001b[0m\u001b[0m\n\u001b[0m\u001b[0;32m    671\u001b[0m         \u001b[0mstem\u001b[0m \u001b[1;33m=\u001b[0m \u001b[0mself\u001b[0m\u001b[1;33m.\u001b[0m\u001b[0m_step3\u001b[0m\u001b[1;33m(\u001b[0m\u001b[0mstem\u001b[0m\u001b[1;33m)\u001b[0m\u001b[1;33m\u001b[0m\u001b[1;33m\u001b[0m\u001b[0m\n\u001b[0;32m    672\u001b[0m         \u001b[0mstem\u001b[0m \u001b[1;33m=\u001b[0m \u001b[0mself\u001b[0m\u001b[1;33m.\u001b[0m\u001b[0m_step4\u001b[0m\u001b[1;33m(\u001b[0m\u001b[0mstem\u001b[0m\u001b[1;33m)\u001b[0m\u001b[1;33m\u001b[0m\u001b[1;33m\u001b[0m\u001b[0m\n",
      "\u001b[1;32mC:\\Anaconda3\\lib\\site-packages\\nltk\\stem\\porter.py\u001b[0m in \u001b[0;36m_step2\u001b[1;34m(self, word)\u001b[0m\n\u001b[0;32m    512\u001b[0m             \u001b[0mrules\u001b[0m\u001b[1;33m.\u001b[0m\u001b[0mappend\u001b[0m\u001b[1;33m(\u001b[0m\u001b[1;33m(\u001b[0m\u001b[1;34m\"logi\"\u001b[0m\u001b[1;33m,\u001b[0m \u001b[1;34m\"log\"\u001b[0m\u001b[1;33m,\u001b[0m \u001b[0mself\u001b[0m\u001b[1;33m.\u001b[0m\u001b[0m_has_positive_measure\u001b[0m\u001b[1;33m)\u001b[0m\u001b[1;33m)\u001b[0m\u001b[1;33m\u001b[0m\u001b[1;33m\u001b[0m\u001b[0m\n\u001b[0;32m    513\u001b[0m \u001b[1;33m\u001b[0m\u001b[0m\n\u001b[1;32m--> 514\u001b[1;33m         \u001b[1;32mreturn\u001b[0m \u001b[0mself\u001b[0m\u001b[1;33m.\u001b[0m\u001b[0m_apply_rule_list\u001b[0m\u001b[1;33m(\u001b[0m\u001b[0mword\u001b[0m\u001b[1;33m,\u001b[0m \u001b[0mrules\u001b[0m\u001b[1;33m)\u001b[0m\u001b[1;33m\u001b[0m\u001b[1;33m\u001b[0m\u001b[0m\n\u001b[0m\u001b[0;32m    515\u001b[0m \u001b[1;33m\u001b[0m\u001b[0m\n\u001b[0;32m    516\u001b[0m     \u001b[1;32mdef\u001b[0m \u001b[0m_step3\u001b[0m\u001b[1;33m(\u001b[0m\u001b[0mself\u001b[0m\u001b[1;33m,\u001b[0m \u001b[0mword\u001b[0m\u001b[1;33m)\u001b[0m\u001b[1;33m:\u001b[0m\u001b[1;33m\u001b[0m\u001b[1;33m\u001b[0m\u001b[0m\n",
      "\u001b[1;32mC:\\Anaconda3\\lib\\site-packages\\nltk\\stem\\porter.py\u001b[0m in \u001b[0;36m_apply_rule_list\u001b[1;34m(self, word, rules)\u001b[0m\n\u001b[0;32m    256\u001b[0m         \u001b[1;32mor\u001b[0m \u001b[1;32mNone\u001b[0m \u001b[1;32mif\u001b[0m \u001b[0mthe\u001b[0m \u001b[0mrule\u001b[0m \u001b[1;32mis\u001b[0m \u001b[0munconditional\u001b[0m\u001b[1;33m.\u001b[0m\u001b[1;33m\u001b[0m\u001b[1;33m\u001b[0m\u001b[0m\n\u001b[0;32m    257\u001b[0m         \"\"\"\n\u001b[1;32m--> 258\u001b[1;33m         \u001b[1;32mfor\u001b[0m \u001b[0mrule\u001b[0m \u001b[1;32min\u001b[0m \u001b[0mrules\u001b[0m\u001b[1;33m:\u001b[0m\u001b[1;33m\u001b[0m\u001b[1;33m\u001b[0m\u001b[0m\n\u001b[0m\u001b[0;32m    259\u001b[0m             \u001b[0msuffix\u001b[0m\u001b[1;33m,\u001b[0m \u001b[0mreplacement\u001b[0m\u001b[1;33m,\u001b[0m \u001b[0mcondition\u001b[0m \u001b[1;33m=\u001b[0m \u001b[0mrule\u001b[0m\u001b[1;33m\u001b[0m\u001b[1;33m\u001b[0m\u001b[0m\n\u001b[0;32m    260\u001b[0m             \u001b[1;32mif\u001b[0m \u001b[0msuffix\u001b[0m \u001b[1;33m==\u001b[0m \u001b[1;34m'*d'\u001b[0m \u001b[1;32mand\u001b[0m \u001b[0mself\u001b[0m\u001b[1;33m.\u001b[0m\u001b[0m_ends_double_consonant\u001b[0m\u001b[1;33m(\u001b[0m\u001b[0mword\u001b[0m\u001b[1;33m)\u001b[0m\u001b[1;33m:\u001b[0m\u001b[1;33m\u001b[0m\u001b[1;33m\u001b[0m\u001b[0m\n",
      "\u001b[1;31mKeyboardInterrupt\u001b[0m: "
     ]
    }
   ],
   "source": [
    "# explore the test dataset:\n",
    "\n",
    "\n",
    "print(\"---------------------------------train dataset---------------------------------\")\n",
    "\n",
    "#numbers of categories:\n",
    "\n",
    "list_of_categories = []\n",
    "count = 0\n",
    "f = open(cwd+ train_txt)\n",
    "for line in f:\n",
    "    tokens = preprocess(line)#tokeinize\n",
    "    if tokens[0] not in list_of_categories:\n",
    "        list_of_categories.append(tokens[0])\n",
    "        count=count+1\n",
    "        \n",
    "print('List of categories:',list_of_categories) \n",
    "print('Number of categories:',count)\n",
    "\n",
    "#numbers of docs from each category:\n",
    "\n",
    "f = open(cwd+ train_txt)\n",
    "\n",
    "count_all = Counter()\n",
    "\n",
    "terms_all=[]\n",
    "\n",
    "for line in f:\n",
    "    tokens = preprocess(line)\n",
    "    terms_all.append(tokens[0]) \n",
    "\n",
    "count_all.update(terms_all)    \n",
    "print('Number of docs per category:',count_all.most_common(8))\n",
    "\n",
    "#terms distribution per category:\n",
    "print(\"terms distribution per category:\")\n",
    "\n",
    "for cat in list_of_categories:\n",
    "    print(\"---------------------------------\")\n",
    "    print(cat,':')\n",
    "    words=[]\n",
    "    qua=[]\n",
    "    terms=[]\n",
    "    f = open(cwd+ train_txt)\n",
    "    clean_and_normalize(cat,terms,list_of_categories,f)\n",
    "    count_all2 = Counter()\n",
    "    count_all2.update(terms)\n",
    "    most=count_all2.most_common(15)\n",
    "    for word in most:\n",
    "        words.append(word[0])\n",
    "        qua.append(word[1])\n",
    "    plt.bar(words,qua)\n",
    "    plt.ylabel('quantity')\n",
    "    plt.title(cat)\n",
    "    plt.show()\n",
    "\n",
    "print(\"-------------------------------------------------------------------------------\")\n",
    "\n",
    "\n",
    "\n",
    "# Present a table of top 10 words per category:\n",
    "# category 1- []\n",
    "#category 2- []\n",
    "#tokenize->lowerCase->stemming->remove stop words\n",
    "\n",
    "print(\"The 10 most common words in each category:\")\n",
    "\n",
    "for cat in list_of_categories:\n",
    "    print(\"---------------------------------\")\n",
    "    print(cat,':')\n",
    "    terms=[]\n",
    "    f = open(cwd+ train_txt)\n",
    "    clean_and_normalize(cat,terms,list_of_categories,f)\n",
    "    count_all2 = Counter()\n",
    "    count_all2.update(terms)\n",
    "    print(count_all2.most_common(10))\n",
    "\n",
    "print(\"-------------------------------------------------------------------------------\")"
   ]
  },
  {
   "cell_type": "code",
   "execution_count": 5,
   "metadata": {},
   "outputs": [
    {
     "name": "stdout",
     "output_type": "stream",
     "text": [
      "---------------------------------test dataset---------------------------------\n",
      "List of categories: ['earn', 'acq', 'trade', 'ship', 'grain', 'crude', 'interest', 'money-fx']\n",
      "Number of categories: 8\n",
      "Number of docs per category: [('earn', 1083), ('acq', 696), ('crude', 121), ('money-fx', 87), ('interest', 81), ('trade', 75), ('ship', 36), ('grain', 10)]\n",
      "The 10 most common words in each category:\n",
      "---------------------------------\n",
      "earn :\n",
      "[('vs', 4952), ('mln', 3714), ('ct', 2436), ('net', 2346), ('shr', 1917), ('dlr', 1832), ('loss', 1150), ('reuter', 1054), ('qtr', 999), ('billion', 810)]\n",
      "---------------------------------\n",
      "acq :\n",
      "[('said', 2018), ('share', 1026), ('dlr', 920), ('compani', 846), ('reuter', 647), ('mln', 629), ('inc', 607), ('pct', 550), ('ha', 535), ('corp', 466)]\n",
      "---------------------------------\n",
      "trade :\n",
      "[('said', 335), ('u', 237), ('dlr', 143), ('japan', 136), ('billion', 135), ('would', 121), ('wa', 112), ('export', 111), ('tariff', 107), ('year', 97)]\n",
      "---------------------------------\n",
      "ship :\n",
      "[('said', 105), ('gulf', 66), ('u', 47), ('wa', 38), ('port', 36), ('reuter', 36), ('iran', 32), ('state', 30), ('ha', 27), ('iranian', 27)]\n",
      "---------------------------------\n",
      "grain :\n",
      "[('mln', 25), ('tonn', 25), ('said', 22), ('year', 18), ('nil', 15), ('product', 14), ('usda', 14), ('soviet', 14), ('crop', 14), ('thi', 11)]\n",
      "---------------------------------\n",
      "crude :\n",
      "[('oil', 434), ('said', 420), ('price', 239), ('barrel', 166), ('opec', 161), ('dlr', 147), ('reuter', 112), ('wa', 111), ('mln', 108), ('bpd', 104)]\n",
      "---------------------------------\n",
      "interest :\n",
      "[('rate', 302), ('pct', 230), ('said', 196), ('bank', 175), ('day', 91), ('market', 82), ('u', 78), ('cut', 61), ('reuter', 59), ('wa', 57)]\n",
      "---------------------------------\n",
      "money-fx :\n",
      "[('said', 256), ('u', 114), ('bank', 106), ('wa', 99), ('rate', 95), ('market', 94), ('accord', 83), ('currenc', 83), ('louvr', 82), ('dollar', 81)]\n",
      "------------------------------------------------------------------------------\n"
     ]
    }
   ],
   "source": [
    "# explore the test dataset:\n",
    "\n",
    "print(\"---------------------------------test dataset---------------------------------\")\n",
    "#numbers of categories:\n",
    "\n",
    "list_of_categories = []\n",
    "count = 0\n",
    "f = open(cwd+ train_txt)\n",
    "for line in f:\n",
    "    tokens = preprocess(line)#tokeinize\n",
    "    if tokens[0] not in list_of_categories:\n",
    "        list_of_categories.append(tokens[0])\n",
    "        count=count+1\n",
    "        \n",
    "print('List of categories:',list_of_categories) \n",
    "print('Number of categories:',count)\n",
    "\n",
    "#numbers of docs from each category:\n",
    "\n",
    "f = open(cwd+ test_txt)\n",
    "\n",
    "count_all = Counter()\n",
    "\n",
    "terms_all=[]\n",
    "\n",
    "for line in f:\n",
    "    tokens = preprocess(line)\n",
    "    terms_all.append(tokens[0]) \n",
    "\n",
    "count_all.update(terms_all)    \n",
    "print('Number of docs per category:',count_all.most_common(8))\n",
    "\n",
    "#terms distribution per category:\n",
    "print(\"terms distribution per category:\")\n",
    "\n",
    "for cat in list_of_categories:\n",
    "    print(\"---------------------------------\")\n",
    "    print(cat,':')\n",
    "    words=[]\n",
    "    qua=[]\n",
    "    terms=[]\n",
    "    f = open(cwd+ train_txt)\n",
    "    clean_and_normalize(cat,terms,list_of_categories,f)\n",
    "    count_all2 = Counter()\n",
    "    count_all2.update(terms)\n",
    "    most=count_all2.most_common(15)\n",
    "    for word in most:\n",
    "        words.append(word[0])\n",
    "        qua.append(word[1])\n",
    "    plt.bar(words,qua)\n",
    "    plt.ylabel('quantity')\n",
    "    plt.title(cat)\n",
    "    plt.show()\n",
    "\n",
    "print(\"-------------------------------------------------------------------------------\")\n",
    "\n",
    "\n",
    "# Present a table of top 10 words per category:\n",
    "# category 1- []\n",
    "#category 2- []\n",
    "#tokenize->lowerCase->stemming->remove stop words\n",
    "\n",
    "print(\"The 10 most common words in each category:\")\n",
    "\n",
    "count_all2 = Counter()\n",
    "\n",
    "for cat in list_of_categories:\n",
    "    print(\"---------------------------------\")\n",
    "    print(cat,':')\n",
    "    terms=[]\n",
    "    f = open(cwd+ test_txt)\n",
    "    clean_and_normalize(cat,terms,list_of_categories,f)\n",
    "    count_all2 = Counter()\n",
    "    count_all2.update(terms)\n",
    "    print(count_all2.most_common(10))\n",
    "    \n",
    "print(\"------------------------------------------------------------------------------\")"
   ]
  },
  {
   "cell_type": "code",
   "execution_count": null,
   "metadata": {},
   "outputs": [],
   "source": []
  }
 ],
 "metadata": {
  "kernelspec": {
   "display_name": "Python 3",
   "language": "python",
   "name": "python3"
  },
  "language_info": {
   "codemirror_mode": {
    "name": "ipython",
    "version": 3
   },
   "file_extension": ".py",
   "mimetype": "text/x-python",
   "name": "python",
   "nbconvert_exporter": "python",
   "pygments_lexer": "ipython3",
   "version": "3.7.4"
  }
 },
 "nbformat": 4,
 "nbformat_minor": 2
}
